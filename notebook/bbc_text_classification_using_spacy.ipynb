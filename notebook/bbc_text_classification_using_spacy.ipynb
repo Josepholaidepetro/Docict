{
  "nbformat": 4,
  "nbformat_minor": 0,
  "metadata": {
    "accelerator": "GPU",
    "colab": {
      "name": "01_NLP_bbc_text_classification using spacy",
      "provenance": [],
      "collapsed_sections": [],
      "include_colab_link": true
    },
    "kernelspec": {
      "display_name": "Python 3",
      "name": "python3"
    }
  },
  "cells": [
    {
      "cell_type": "markdown",
      "metadata": {
        "id": "view-in-github",
        "colab_type": "text"
      },
      "source": [
        "<a href=\"https://colab.research.google.com/github/Josepholaidepetro/Docict/blob/main/notebook/bbc_text_classification_using_spacy.ipynb\" target=\"_parent\"><img src=\"https://colab.research.google.com/assets/colab-badge.svg\" alt=\"Open In Colab\"/></a>"
      ]
    },
    {
      "cell_type": "code",
      "metadata": {
        "id": "gnwiOnGyW5JK",
        "colab": {
          "base_uri": "https://localhost:8080/"
        },
        "outputId": "6ee2727f-e1db-4b01-8df5-087bc8bb5d39"
      },
      "source": [
        "import csv\n",
        "import tensorflow as tf\n",
        "import numpy as np\n",
        "import spacy\n",
        "\n",
        "from sklearn.pipeline import Pipeline, FeatureUnion\n",
        "from sklearn.base import BaseEstimator, TransformerMixin, ClassifierMixin\n",
        "\n",
        "\n",
        "from tensorflow.keras.preprocessing.text import Tokenizer\n",
        "from tensorflow.keras.preprocessing.sequence import pad_sequences\n",
        "\n",
        "!wget --no-check-certificate \\\n",
        "    https://storage.googleapis.com/laurencemoroney-blog.appspot.com/bbc-text.csv \\\n",
        "    -O /tmp/bbc-text.csv"
      ],
      "execution_count": null,
      "outputs": [
        {
          "output_type": "stream",
          "text": [
            "--2021-07-22 14:29:38--  https://storage.googleapis.com/laurencemoroney-blog.appspot.com/bbc-text.csv\n",
            "Resolving storage.googleapis.com (storage.googleapis.com)... 74.125.23.128, 74.125.203.128, 74.125.204.128, ...\n",
            "Connecting to storage.googleapis.com (storage.googleapis.com)|74.125.23.128|:443... connected.\n",
            "HTTP request sent, awaiting response... 200 OK\n",
            "Length: 5057493 (4.8M) [application/octet-stream]\n",
            "Saving to: ‘/tmp/bbc-text.csv’\n",
            "\n",
            "\r/tmp/bbc-text.csv     0%[                    ]       0  --.-KB/s               \r/tmp/bbc-text.csv   100%[===================>]   4.82M  --.-KB/s    in 0.05s   \n",
            "\n",
            "2021-07-22 14:29:38 (105 MB/s) - ‘/tmp/bbc-text.csv’ saved [5057493/5057493]\n",
            "\n"
          ],
          "name": "stdout"
        }
      ]
    },
    {
      "cell_type": "code",
      "metadata": {
        "id": "EYo6A4v5ZABQ"
      },
      "source": [
        "vocab_size = 3000 # YOUR CODE HERE\n",
        "embedding_dim = 16 # YOUR CODE HERE\n",
        "max_length = 120 # YOUR CODE HERE\n",
        "trunc_type = 'post' # YOUR CODE HERE\n",
        "padding_type = 'post' # YOUR CODE HERE\n",
        "oov_tok = \"<OOV>\" # YOUR CODE HERE\n",
        "training_portion = .8"
      ],
      "execution_count": null,
      "outputs": []
    },
    {
      "cell_type": "code",
      "metadata": {
        "id": "iU1qq3_SZBx_"
      },
      "source": [
        "sentences = []\n",
        "labels = []"
      ],
      "execution_count": null,
      "outputs": []
    },
    {
      "cell_type": "code",
      "metadata": {
        "id": "2JKEC2CtCCGm"
      },
      "source": [
        "# creating a spacy pipeline and disabling tagger, parser and ner to speed up tokenizer\n",
        "nlp = spacy.load('en', disable=['tagger', 'parser', 'ner'])"
      ],
      "execution_count": null,
      "outputs": []
    },
    {
      "cell_type": "code",
      "metadata": {
        "id": "xknFWFwDCCJ7"
      },
      "source": [
        "spacy_stop_words = spacy.lang.en.STOP_WORDS # getting spacy's stop-words"
      ],
      "execution_count": null,
      "outputs": []
    },
    {
      "cell_type": "code",
      "metadata": {
        "id": "AducZ4CzCCNj"
      },
      "source": [
        "stop_words_lemma  = {word.lemma_.lower() for word in nlp(' '.join(spacy_stop_words))}"
      ],
      "execution_count": null,
      "outputs": []
    },
    {
      "cell_type": "code",
      "metadata": {
        "id": "eutB2xMiZD0e",
        "colab": {
          "base_uri": "https://localhost:8080/"
        },
        "outputId": "fac4484d-17d2-4a66-f3ac-b248a324e130"
      },
      "source": [
        "with open(\"/tmp/bbc-text.csv\", 'r') as csvfile:\n",
        "    reader = csv.reader(csvfile, delimiter=',')\n",
        "    next(reader)\n",
        "    for row in reader:\n",
        "      labels.append(row[0])\n",
        "      sentences.append(row[1])\n",
        "    \n",
        "    \n",
        "print(len(labels))\n",
        "print(len(sentences))\n",
        "print(sentences[0])"
      ],
      "execution_count": null,
      "outputs": [
        {
          "output_type": "stream",
          "text": [
            "2225\n",
            "2225\n",
            "tv future in the hands of viewers with home theatre systems  plasma high-definition tvs  and digital video recorders moving into the living room  the way people watch tv will be radically different in five years  time.  that is according to an expert panel which gathered at the annual consumer electronics show in las vegas to discuss how these new technologies will impact one of our favourite pastimes. with the us leading the trend  programmes and other content will be delivered to viewers via home networks  through cable  satellite  telecoms companies  and broadband service providers to front rooms and portable devices.  one of the most talked-about technologies of ces has been digital and personal video recorders (dvr and pvr). these set-top boxes  like the us s tivo and the uk s sky+ system  allow people to record  store  play  pause and forward wind tv programmes when they want.  essentially  the technology allows for much more personalised tv. they are also being built-in to high-definition tv sets  which are big business in japan and the us  but slower to take off in europe because of the lack of high-definition programming. not only can people forward wind through adverts  they can also forget about abiding by network and channel schedules  putting together their own a-la-carte entertainment. but some us networks and cable and satellite companies are worried about what it means for them in terms of advertising revenues as well as  brand identity  and viewer loyalty to channels. although the us leads in this technology at the moment  it is also a concern that is being raised in europe  particularly with the growing uptake of services like sky+.  what happens here today  we will see in nine months to a years  time in the uk   adam hume  the bbc broadcast s futurologist told the bbc news website. for the likes of the bbc  there are no issues of lost advertising revenue yet. it is a more pressing issue at the moment for commercial uk broadcasters  but brand loyalty is important for everyone.  we will be talking more about content brands rather than network brands   said tim hanlon  from brand communications firm starcom mediavest.  the reality is that with broadband connections  anybody can be the producer of content.  he added:  the challenge now is that it is hard to promote a programme with so much choice.   what this means  said stacey jolna  senior vice president of tv guide tv group  is that the way people find the content they want to watch has to be simplified for tv viewers. it means that networks  in us terms  or channels could take a leaf out of google s book and be the search engine of the future  instead of the scheduler to help people find what they want to watch. this kind of channel model might work for the younger ipod generation which is used to taking control of their gadgets and what they play on them. but it might not suit everyone  the panel recognised. older generations are more comfortable with familiar schedules and channel brands because they know what they are getting. they perhaps do not want so much of the choice put into their hands  mr hanlon suggested.  on the other end  you have the kids just out of diapers who are pushing buttons already - everything is possible and available to them   said mr hanlon.  ultimately  the consumer will tell the market they want.   of the 50 000 new gadgets and technologies being showcased at ces  many of them are about enhancing the tv-watching experience. high-definition tv sets are everywhere and many new models of lcd (liquid crystal display) tvs have been launched with dvr capability built into them  instead of being external boxes. one such example launched at the show is humax s 26-inch lcd tv with an 80-hour tivo dvr and dvd recorder. one of the us s biggest satellite tv companies  directtv  has even launched its own branded dvr at the show with 100-hours of recording capability  instant replay  and a search function. the set can pause and rewind tv for up to 90 hours. and microsoft chief bill gates announced in his pre-show keynote speech a partnership with tivo  called tivotogo  which means people can play recorded programmes on windows pcs and mobile devices. all these reflect the increasing trend of freeing up multimedia so that people can watch what they want  when they want.\n"
          ],
          "name": "stdout"
        }
      ]
    },
    {
      "cell_type": "markdown",
      "metadata": {
        "id": "20oUy-m8cYQA"
      },
      "source": [
        "Data splitting"
      ]
    },
    {
      "cell_type": "code",
      "metadata": {
        "colab": {
          "base_uri": "https://localhost:8080/"
        },
        "id": "EbhjyjCsbG4P",
        "outputId": "af6c9fbc-ecb3-4fd6-d210-bb946d15348b"
      },
      "source": [
        "train_size = int(len(sentences) * training_portion) \n",
        "\n",
        "train_sentences = sentences[:train_size] \n",
        "train_labels = labels[:train_size] \n",
        "\n",
        "validation_sentences = sentences[train_size:] \n",
        "validation_labels = labels[train_size:] \n",
        "\n",
        "print(train_size)\n",
        "print(len(train_sentences))\n",
        "print(len(train_labels))\n",
        "print(len(validation_sentences))\n",
        "print(len(validation_labels))"
      ],
      "execution_count": null,
      "outputs": [
        {
          "output_type": "stream",
          "text": [
            "1780\n",
            "1780\n",
            "1780\n",
            "445\n",
            "445\n"
          ],
          "name": "stdout"
        }
      ]
    },
    {
      "cell_type": "code",
      "metadata": {
        "id": "2kHZDJR8wTEE"
      },
      "source": [
        "class StopwordRemove(BaseEstimator, TransformerMixin):\n",
        "    def __init__(self, stop_words=stop_words_lemma):\n",
        "        self.stop_words = stop_words\n",
        "    \n",
        "    # defining tokenzer function to tokenize the lower case lemma of documents in a corpus and \n",
        "    # filter out stop-words  \n",
        "    def stopword_remove(self, text):\n",
        "        return [word.lemma_.lower() for word in nlp(text) if word.is_alpha and word.lemma_.lower() \\\n",
        "                not in self.stop_words]\n",
        "\n",
        "    def fit(self, X, y=None):\n",
        "        return self\n",
        "    \n",
        "    def transform(self, X):\n",
        "        self.tokens = [self.stopword_remove(doc) for doc in X]\n",
        "            \n",
        "        return self.tokens"
      ],
      "execution_count": null,
      "outputs": []
    },
    {
      "cell_type": "code",
      "metadata": {
        "id": "6oyWU0dJ0sLf"
      },
      "source": [
        "class Text2Sequence(BaseEstimator, TransformerMixin):\n",
        "    def __init__(self):\n",
        "        self.sequence_tokenizer = Tokenizer(num_words = 3000,oov_token='<oov>')\n",
        "\n",
        "    def fit(self, X, y=None):\n",
        "        self.sequence_tokenizer.fit_on_texts(X)\n",
        "        self.tokenizer_model = self.sequence_tokenizer\n",
        "        self.words_indices = self.sequence_tokenizer.word_index\n",
        "        return self\n",
        "    \n",
        "    def transform(self, X):\n",
        "        self.get_sequences = self.sequence_tokenizer.texts_to_sequences(X)\n",
        "        return self.get_sequences"
      ],
      "execution_count": null,
      "outputs": []
    },
    {
      "cell_type": "code",
      "metadata": {
        "id": "ML4KQBGnFjX-"
      },
      "source": [
        "class Padding(BaseEstimator, TransformerMixin):\n",
        "    def __init__(self, pad='post', max_length=120):\n",
        "        self.pad = pad\n",
        "        self.max_length = max_length\n",
        "    \n",
        "    def fit(self, X, y=None):\n",
        "        return self\n",
        "    \n",
        "    def transform(self, X):\n",
        "        self.get_paddings = pad_sequences(X, padding=self.pad, maxlen=self.max_length)\n",
        "        return self.get_paddings"
      ],
      "execution_count": null,
      "outputs": []
    },
    {
      "cell_type": "code",
      "metadata": {
        "id": "76oGcf8JGDxQ"
      },
      "source": [
        "sr = StopwordRemove()\n",
        "ts = Text2Sequence()\n",
        "pad = Padding()"
      ],
      "execution_count": null,
      "outputs": []
    },
    {
      "cell_type": "code",
      "metadata": {
        "id": "VOTdieRoGD2V"
      },
      "source": [
        "data_prep_pipe = Pipeline([('remove_stop', sr), ('text_2_sequence', ts), ('padding', pad)], verbose=1)"
      ],
      "execution_count": null,
      "outputs": []
    },
    {
      "cell_type": "markdown",
      "metadata": {
        "id": "tJtj1UJ7nxrM"
      },
      "source": [
        "\n",
        "\n",
        "\n",
        "```\n",
        "class LabelTokenizer(BaseEstimator, TransformerMixin):\n",
        "    def __init__(self):\n",
        "        self.sequence_tokenizer = Tokenizer()\n",
        "\n",
        "    def fit(self, X, y=None):\n",
        "        self.sequence_tokenizer.fit_on_texts(X)\n",
        "        return self\n",
        "    \n",
        "    def transform(self, X):\n",
        "        self.get_sequences = self.sequence_tokenizer.texts_to_sequences(X)\n",
        "        return self.get_sequences\n",
        "```\n",
        "\n",
        "\n",
        "\n",
        "\n",
        "```\n",
        "from sklearn.preprocessing import LabelEncoder\n",
        "le = LabelTokenizer()        \n",
        "train_encoded_labels = np.array(le.fit_transform(train_labels))\n",
        "valid_encoded_labels = np.array(le.transform(validation_labels))\n",
        "```\n",
        "\n"
      ]
    },
    {
      "cell_type": "code",
      "metadata": {
        "id": "lGFfsKT5GD5t"
      },
      "source": [
        "from sklearn.preprocessing import LabelEncoder\n",
        "le = LabelEncoder()        \n",
        "train_encoded_labels = (le.fit_transform(train_labels)).reshape(-1, 1)\n",
        "valid_encoded_labels = (le.fit_transform(validation_labels)).reshape(-1, 1)"
      ],
      "execution_count": null,
      "outputs": []
    },
    {
      "cell_type": "code",
      "metadata": {
        "colab": {
          "base_uri": "https://localhost:8080/"
        },
        "id": "RP0GDq0THmmB",
        "outputId": "1266e869-8bd2-4e84-c15b-aea305f6f1e6"
      },
      "source": [
        "X_train = data_prep_pipe.fit_transform(train_sentences) # getting processed corpus for training\n",
        "X_test = data_prep_pipe.transform(validation_sentences) # getting processed corpus for testing"
      ],
      "execution_count": null,
      "outputs": [
        {
          "output_type": "stream",
          "text": [
            "[Pipeline] ....... (step 1 of 3) Processing remove_stop, total=   6.1s\n",
            "[Pipeline] ... (step 2 of 3) Processing text_2_sequence, total=   0.5s\n",
            "[Pipeline] ........... (step 3 of 3) Processing padding, total=   0.0s\n"
          ],
          "name": "stdout"
        }
      ]
    },
    {
      "cell_type": "code",
      "metadata": {
        "id": "F6jKWhTdOaBC"
      },
      "source": [
        "class Sequence2Text(BaseEstimator, TransformerMixin):\n",
        "    def __init__(self):\n",
        "        self.sequence_tokenizer = data_prep_pipe.named_steps['text_2_sequence'].tokenizer_model\n",
        "\n",
        "    def fit(self, X, y=None):\n",
        "        return self\n",
        "    \n",
        "    def transform(self, X):\n",
        "        self.get_sequences = self.sequence_tokenizer.sequences_to_texts(X)\n",
        "        return self.get_sequences"
      ],
      "execution_count": null,
      "outputs": []
    },
    {
      "cell_type": "markdown",
      "metadata": {
        "id": "Ibl4344EarCm"
      },
      "source": [
        "\n",
        "\n",
        "```\n",
        "class Sequence2Text(BaseEstimator, TransformerMixin):\n",
        "    def __init__(self):\n",
        "        self.word_index = data_prep_pipe.named_steps['text_2_sequence'].words_indices\n",
        "\n",
        "    def fit(self, X, y=None):\n",
        "        return self\n",
        "    \n",
        "    def transform(self, X):\n",
        "        self.reverse_word_index = dict([(value, key) for (key, value) in self.word_index.items()])\n",
        "        self.get_sequences = ' '.join([self.reverse_word_index.get(i, '?') for i in X])\n",
        "        return self.get_sequences\n",
        "```\n",
        "\n"
      ]
    },
    {
      "cell_type": "code",
      "metadata": {
        "id": "hHfXXg_qSUsR"
      },
      "source": [
        "st = Sequence2Text()"
      ],
      "execution_count": null,
      "outputs": []
    },
    {
      "cell_type": "code",
      "metadata": {
        "id": "aLm4b0F6OaTX"
      },
      "source": [
        "test_prep = st.fit_transform([X_test[0]]) # getting processed corpus"
      ],
      "execution_count": null,
      "outputs": []
    },
    {
      "cell_type": "code",
      "metadata": {
        "colab": {
          "base_uri": "https://localhost:8080/"
        },
        "id": "5bRg9AKIaTXo",
        "outputId": "e7d99d6a-17d7-4a1d-c450-88f130209d18"
      },
      "source": [
        "test_prep"
      ],
      "execution_count": null,
      "outputs": [
        {
          "output_type": "execute_result",
          "data": {
            "text/plain": [
              "['film version <oov> oscar winner visit sydney desire <oov> negotiation think s lot lawyer sit room try <oov> deal happen new <oov> right <oov> <oov> s book split major film studio jackson currently film remake hollywood classic king kong think sale <oov> studio sony corporation cast uncertainty project old australian city visit lord ring <oov> attract visitor open december film maker recently sue film company new line cinema <oov> damage allege <oov> profit lose revenue middle earth <oov> <oov> ring worldwide profit million million jackson think secure lucrative film direct deal history remake king kong currently production <oov> picture star <oov> <oov> oscar winner <oov> <oov> release december jackson commit film version <oov> <oov> base well sell book <oov> <oov>']"
            ]
          },
          "metadata": {
            "tags": []
          },
          "execution_count": 133
        }
      ]
    },
    {
      "cell_type": "code",
      "metadata": {
        "id": "xng_LTCFpTaU"
      },
      "source": [
        "import numpy as np\n",
        "training_padded = np.array(X_train)\n",
        "validation_padded = np.array(X_test)\n"
      ],
      "execution_count": null,
      "outputs": []
    },
    {
      "cell_type": "code",
      "metadata": {
        "id": "HZ5um4MWZP-W",
        "colab": {
          "base_uri": "https://localhost:8080/"
        },
        "outputId": "8ec93183-865a-4858-9cbf-25a8f10126d6"
      },
      "source": [
        "model = tf.keras.Sequential([\n",
        "    tf.keras.layers.Embedding(vocab_size, embedding_dim, input_length=max_length), \n",
        "    tf.keras.layers.GlobalAveragePooling1D(), \n",
        "    tf.keras.layers.Dense(24, activation = 'relu'), \n",
        "    tf.keras.layers.Dense(5, activation = 'sigmoid')\n",
        "    \n",
        "])\n",
        "model.compile(loss='sparse_categorical_crossentropy',optimizer='adam',metrics=['accuracy'])\n",
        "model.summary()"
      ],
      "execution_count": null,
      "outputs": [
        {
          "output_type": "stream",
          "text": [
            "Model: \"sequential_5\"\n",
            "_________________________________________________________________\n",
            "Layer (type)                 Output Shape              Param #   \n",
            "=================================================================\n",
            "embedding_5 (Embedding)      (None, 120, 16)           48000     \n",
            "_________________________________________________________________\n",
            "global_average_pooling1d_5 ( (None, 16)                0         \n",
            "_________________________________________________________________\n",
            "dense_10 (Dense)             (None, 24)                408       \n",
            "_________________________________________________________________\n",
            "dense_11 (Dense)             (None, 5)                 125       \n",
            "=================================================================\n",
            "Total params: 48,533\n",
            "Trainable params: 48,533\n",
            "Non-trainable params: 0\n",
            "_________________________________________________________________\n"
          ],
          "name": "stdout"
        }
      ]
    },
    {
      "cell_type": "code",
      "metadata": {
        "id": "XsfdxySKZSXu",
        "colab": {
          "base_uri": "https://localhost:8080/"
        },
        "outputId": "2a597e30-c758-4812-c643-6b186e012576"
      },
      "source": [
        "num_epochs = 15\n",
        "history = model.fit(training_padded, train_encoded_labels, epochs=num_epochs, validation_data=(validation_padded, valid_encoded_labels), verbose=2)      #(# YOUR CODE HERE)"
      ],
      "execution_count": null,
      "outputs": [
        {
          "output_type": "stream",
          "text": [
            "Epoch 1/15\n",
            "56/56 - 1s - loss: 1.5919 - accuracy: 0.3607 - val_loss: 1.5634 - val_accuracy: 0.5438\n",
            "Epoch 2/15\n",
            "56/56 - 0s - loss: 1.5069 - accuracy: 0.6483 - val_loss: 1.4339 - val_accuracy: 0.7191\n",
            "Epoch 3/15\n",
            "56/56 - 0s - loss: 1.3119 - accuracy: 0.8022 - val_loss: 1.1920 - val_accuracy: 0.7978\n",
            "Epoch 4/15\n",
            "56/56 - 0s - loss: 1.0280 - accuracy: 0.8809 - val_loss: 0.9103 - val_accuracy: 0.8809\n",
            "Epoch 5/15\n",
            "56/56 - 0s - loss: 0.7367 - accuracy: 0.9320 - val_loss: 0.6585 - val_accuracy: 0.9213\n",
            "Epoch 6/15\n",
            "56/56 - 0s - loss: 0.5075 - accuracy: 0.9545 - val_loss: 0.4862 - val_accuracy: 0.9303\n",
            "Epoch 7/15\n",
            "56/56 - 0s - loss: 0.3536 - accuracy: 0.9657 - val_loss: 0.3734 - val_accuracy: 0.9438\n",
            "Epoch 8/15\n",
            "56/56 - 0s - loss: 0.2539 - accuracy: 0.9753 - val_loss: 0.3022 - val_accuracy: 0.9506\n",
            "Epoch 9/15\n",
            "56/56 - 0s - loss: 0.1891 - accuracy: 0.9809 - val_loss: 0.2553 - val_accuracy: 0.9506\n",
            "Epoch 10/15\n",
            "56/56 - 0s - loss: 0.1444 - accuracy: 0.9848 - val_loss: 0.2240 - val_accuracy: 0.9528\n",
            "Epoch 11/15\n",
            "56/56 - 0s - loss: 0.1133 - accuracy: 0.9893 - val_loss: 0.2016 - val_accuracy: 0.9528\n",
            "Epoch 12/15\n",
            "56/56 - 0s - loss: 0.0903 - accuracy: 0.9921 - val_loss: 0.1848 - val_accuracy: 0.9528\n",
            "Epoch 13/15\n",
            "56/56 - 0s - loss: 0.0733 - accuracy: 0.9927 - val_loss: 0.1722 - val_accuracy: 0.9596\n",
            "Epoch 14/15\n",
            "56/56 - 0s - loss: 0.0602 - accuracy: 0.9944 - val_loss: 0.1625 - val_accuracy: 0.9596\n",
            "Epoch 15/15\n",
            "56/56 - 0s - loss: 0.0501 - accuracy: 0.9966 - val_loss: 0.1553 - val_accuracy: 0.9640\n"
          ],
          "name": "stdout"
        }
      ]
    },
    {
      "cell_type": "code",
      "metadata": {
        "colab": {
          "base_uri": "https://localhost:8080/"
        },
        "id": "cxvcIPbblLzr",
        "outputId": "51363c7f-77cd-49c9-ea10-1bcdb89b1099"
      },
      "source": [
        "training_padded.shape"
      ],
      "execution_count": null,
      "outputs": [
        {
          "output_type": "execute_result",
          "data": {
            "text/plain": [
              "(1780, 120)"
            ]
          },
          "metadata": {
            "tags": []
          },
          "execution_count": 137
        }
      ]
    },
    {
      "cell_type": "markdown",
      "metadata": {
        "id": "mReH0S5XcvWU"
      },
      "source": [
        "Prediction"
      ]
    },
    {
      "cell_type": "code",
      "metadata": {
        "id": "O1uPJrWwlAys"
      },
      "source": [
        "model.predict_classes(X_test[0].reshape(1,-1))"
      ],
      "execution_count": null,
      "outputs": []
    },
    {
      "cell_type": "code",
      "metadata": {
        "colab": {
          "base_uri": "https://localhost:8080/"
        },
        "id": "ll8iWBDnoWda",
        "outputId": "5f753f81-8744-42e3-c218-ac240f746c91"
      },
      "source": [
        "np.argmax(model.predict(X_test[0].reshape(1,-1)), axis=-1)"
      ],
      "execution_count": null,
      "outputs": [
        {
          "output_type": "execute_result",
          "data": {
            "text/plain": [
              "array([1])"
            ]
          },
          "metadata": {
            "tags": []
          },
          "execution_count": 141
        }
      ]
    },
    {
      "cell_type": "code",
      "metadata": {
        "colab": {
          "base_uri": "https://localhost:8080/"
        },
        "id": "cgR64cSjllgF",
        "outputId": "af6e43d9-d7c2-44c1-bc56-60b3efdcd05f"
      },
      "source": [
        "valid_encoded_labels[0]"
      ],
      "execution_count": null,
      "outputs": [
        {
          "output_type": "execute_result",
          "data": {
            "text/plain": [
              "array([1])"
            ]
          },
          "metadata": {
            "tags": []
          },
          "execution_count": 140
        }
      ]
    },
    {
      "cell_type": "markdown",
      "metadata": {
        "id": "AepNh2gdc2Iz"
      },
      "source": [
        "Visualize"
      ]
    },
    {
      "cell_type": "code",
      "metadata": {
        "id": "dQ0BX2apXS9u",
        "colab": {
          "base_uri": "https://localhost:8080/",
          "height": 541
        },
        "outputId": "f164b375-157e-4d65-c9f5-f01b88059903"
      },
      "source": [
        "import matplotlib.pyplot as plt\n",
        "\n",
        "\n",
        "def plot_graphs(history, string):\n",
        "  plt.plot(history.history[string])\n",
        "  plt.plot(history.history['val_'+string])\n",
        "  plt.xlabel(\"Epochs\")\n",
        "  plt.ylabel(string)\n",
        "  plt.legend([string, 'val_'+string])\n",
        "  plt.show()\n",
        "  \n",
        "plot_graphs(history, \"accuracy\")\n",
        "plot_graphs(history, \"loss\")"
      ],
      "execution_count": null,
      "outputs": [
        {
          "output_type": "display_data",
          "data": {
            "image/png": "[encoded data removed]",
            "text/plain": [
              "<Figure size 432x288 with 1 Axes>"
            ]
          },
          "metadata": {
            "tags": [],
            "needs_background": "light"
          }
        },
        {
          "output_type": "display_data",
          "data": {
            "image/png": "[encoded data removed]",
            "text/plain": [
              "<Figure size 432x288 with 1 Axes>"
            ]
          },
          "metadata": {
            "tags": [],
            "needs_background": "light"
          }
        }
      ]
    },
    {
      "cell_type": "code",
      "metadata": {
        "id": "Aek5Iu2TkJWQ"
      },
      "source": [
        "model.layers[0].get_weights()"
      ],
      "execution_count": null,
      "outputs": []
    },
    {
      "cell_type": "code",
      "metadata": {
        "id": "OhnFA_TDXrih",
        "colab": {
          "base_uri": "https://localhost:8080/"
        },
        "outputId": "076ffcde-8db1-40fd-cb42-0109f20ae6c4"
      },
      "source": [
        "e = model.layers[0]\n",
        "weights = e.get_weights()[0]\n",
        "print(weights.shape) "
      ],
      "execution_count": null,
      "outputs": [
        {
          "output_type": "stream",
          "text": [
            "(3000, 16)\n"
          ],
          "name": "stdout"
        }
      ]
    },
    {
      "cell_type": "code",
      "metadata": {
        "id": "nAby_p6Akn14"
      },
      "source": [
        "reverse_word_index = dict([(value, key) for (key, value) in data_prep_pipe.named_steps['text_2_sequence'].words_indices.items()])\n",
        "\n",
        "def decode_sentence(text):\n",
        "    return ' '.join([reverse_word_index.get(i, '?') for i in text])"
      ],
      "execution_count": null,
      "outputs": []
    },
    {
      "cell_type": "code",
      "metadata": {
        "id": "_POzcWWAXudL"
      },
      "source": [
        "import io\n",
        "\n",
        "out_v = io.open('vecs.tsv', 'w', encoding='utf-8')\n",
        "out_m = io.open('meta.tsv', 'w', encoding='utf-8')\n",
        "for word_num in range(1, vocab_size):\n",
        "  word = reverse_word_index[word_num]\n",
        "  embeddings = weights[word_num]\n",
        "  out_m.write(word + \"\\n\")\n",
        "  out_v.write('\\t'.join([str(x) for x in embeddings]) + \"\\n\")\n",
        "out_v.close()\n",
        "out_m.close()"
      ],
      "execution_count": null,
      "outputs": []
    },
    {
      "cell_type": "code",
      "metadata": {
        "id": "VmqpQMZ_XyOa"
      },
      "source": [
        "try:\n",
        "  from google.colab import files\n",
        "except ImportError:\n",
        "  pass\n",
        "else:\n",
        "  files.download('vecs.tsv')\n",
        "  files.download('meta.tsv')"
      ],
      "execution_count": null,
      "outputs": []
    }
  ]
}
